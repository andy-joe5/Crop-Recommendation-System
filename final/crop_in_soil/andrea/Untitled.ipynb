{
 "cells": [
  {
   "cell_type": "code",
   "execution_count": 1,
   "id": "6c7d2e61",
   "metadata": {},
   "outputs": [],
   "source": [
    "# Importing libraries\n",
    "\n",
    "from __future__ import print_function\n",
    "import pandas as pd\n",
    "import numpy as np\n",
    "import matplotlib.pyplot as plt\n",
    "import seaborn as sns\n",
    "from sklearn.metrics import classification_report\n",
    "from sklearn import metrics\n",
    "from sklearn import tree\n",
    "import warnings\n",
    "warnings.filterwarnings('ignore')"
   ]
  },
  {
   "cell_type": "code",
   "execution_count": 2,
   "id": "62ee5e4d",
   "metadata": {},
   "outputs": [],
   "source": [
    "df = pd.read_csv('crop.csv')"
   ]
  },
  {
   "cell_type": "code",
   "execution_count": 3,
   "id": "49442430",
   "metadata": {},
   "outputs": [
    {
     "data": {
      "text/html": [
       "<div>\n",
       "<style scoped>\n",
       "    .dataframe tbody tr th:only-of-type {\n",
       "        vertical-align: middle;\n",
       "    }\n",
       "\n",
       "    .dataframe tbody tr th {\n",
       "        vertical-align: top;\n",
       "    }\n",
       "\n",
       "    .dataframe thead th {\n",
       "        text-align: right;\n",
       "    }\n",
       "</style>\n",
       "<table border=\"1\" class=\"dataframe\">\n",
       "  <thead>\n",
       "    <tr style=\"text-align: right;\">\n",
       "      <th></th>\n",
       "      <th>HUMIDITY</th>\n",
       "      <th>PH</th>\n",
       "      <th>RAIN</th>\n",
       "      <th>TEMPARATURE</th>\n",
       "      <th>N</th>\n",
       "      <th>P</th>\n",
       "      <th>K</th>\n",
       "    </tr>\n",
       "  </thead>\n",
       "  <tbody>\n",
       "    <tr>\n",
       "      <th>0</th>\n",
       "      <td>5</td>\n",
       "      <td>0.00</td>\n",
       "      <td>0</td>\n",
       "      <td>31.36</td>\n",
       "      <td>0</td>\n",
       "      <td>18</td>\n",
       "      <td>4</td>\n",
       "    </tr>\n",
       "    <tr>\n",
       "      <th>1</th>\n",
       "      <td>5</td>\n",
       "      <td>0.01</td>\n",
       "      <td>20000</td>\n",
       "      <td>31.85</td>\n",
       "      <td>0</td>\n",
       "      <td>23</td>\n",
       "      <td>2</td>\n",
       "    </tr>\n",
       "    <tr>\n",
       "      <th>2</th>\n",
       "      <td>4</td>\n",
       "      <td>0.00</td>\n",
       "      <td>1023</td>\n",
       "      <td>31.85</td>\n",
       "      <td>0</td>\n",
       "      <td>20</td>\n",
       "      <td>31</td>\n",
       "    </tr>\n",
       "    <tr>\n",
       "      <th>3</th>\n",
       "      <td>5</td>\n",
       "      <td>0.00</td>\n",
       "      <td>1023</td>\n",
       "      <td>31.85</td>\n",
       "      <td>0</td>\n",
       "      <td>19</td>\n",
       "      <td>32</td>\n",
       "    </tr>\n",
       "    <tr>\n",
       "      <th>4</th>\n",
       "      <td>4</td>\n",
       "      <td>0.00</td>\n",
       "      <td>1023</td>\n",
       "      <td>31.36</td>\n",
       "      <td>0</td>\n",
       "      <td>21</td>\n",
       "      <td>29</td>\n",
       "    </tr>\n",
       "    <tr>\n",
       "      <th>...</th>\n",
       "      <td>...</td>\n",
       "      <td>...</td>\n",
       "      <td>...</td>\n",
       "      <td>...</td>\n",
       "      <td>...</td>\n",
       "      <td>...</td>\n",
       "      <td>...</td>\n",
       "    </tr>\n",
       "    <tr>\n",
       "      <th>18406</th>\n",
       "      <td>9</td>\n",
       "      <td>0.00</td>\n",
       "      <td>395</td>\n",
       "      <td>31.36</td>\n",
       "      <td>0</td>\n",
       "      <td>39</td>\n",
       "      <td>35</td>\n",
       "    </tr>\n",
       "    <tr>\n",
       "      <th>18407</th>\n",
       "      <td>8</td>\n",
       "      <td>0.00</td>\n",
       "      <td>395</td>\n",
       "      <td>31.85</td>\n",
       "      <td>0</td>\n",
       "      <td>29</td>\n",
       "      <td>35</td>\n",
       "    </tr>\n",
       "    <tr>\n",
       "      <th>18408</th>\n",
       "      <td>8</td>\n",
       "      <td>0.00</td>\n",
       "      <td>395</td>\n",
       "      <td>31.36</td>\n",
       "      <td>4</td>\n",
       "      <td>35</td>\n",
       "      <td>36</td>\n",
       "    </tr>\n",
       "    <tr>\n",
       "      <th>18409</th>\n",
       "      <td>8</td>\n",
       "      <td>0.00</td>\n",
       "      <td>395</td>\n",
       "      <td>31.36</td>\n",
       "      <td>0</td>\n",
       "      <td>40</td>\n",
       "      <td>35</td>\n",
       "    </tr>\n",
       "    <tr>\n",
       "      <th>18410</th>\n",
       "      <td>9</td>\n",
       "      <td>0.00</td>\n",
       "      <td>395</td>\n",
       "      <td>31.36</td>\n",
       "      <td>0</td>\n",
       "      <td>33</td>\n",
       "      <td>36</td>\n",
       "    </tr>\n",
       "  </tbody>\n",
       "</table>\n",
       "<p>18411 rows × 7 columns</p>\n",
       "</div>"
      ],
      "text/plain": [
       "       HUMIDITY         PH       RAIN  TEMPARATURE          N          P  \\\n",
       "0             5       0.00          0        31.36          0         18   \n",
       "1             5       0.01      20000        31.85          0         23   \n",
       "2             4       0.00       1023        31.85          0         20   \n",
       "3             5       0.00       1023        31.85          0         19   \n",
       "4             4       0.00       1023        31.36          0         21   \n",
       "...         ...        ...        ...          ...        ...        ...   \n",
       "18406         9       0.00        395        31.36          0         39   \n",
       "18407         8       0.00        395        31.85          0         29   \n",
       "18408         8       0.00        395        31.36          4         35   \n",
       "18409         8       0.00        395        31.36          0         40   \n",
       "18410         9       0.00        395        31.36          0         33   \n",
       "\n",
       "               K  \n",
       "0              4  \n",
       "1              2  \n",
       "2             31  \n",
       "3             32  \n",
       "4             29  \n",
       "...          ...  \n",
       "18406         35  \n",
       "18407         35  \n",
       "18408         36  \n",
       "18409         35  \n",
       "18410         36  \n",
       "\n",
       "[18411 rows x 7 columns]"
      ]
     },
     "execution_count": 3,
     "metadata": {},
     "output_type": "execute_result"
    }
   ],
   "source": [
    "df"
   ]
  },
  {
   "cell_type": "code",
   "execution_count": 4,
   "id": "93134471",
   "metadata": {},
   "outputs": [
    {
     "name": "stdout",
     "output_type": "stream",
     "text": [
      "<class 'pandas.core.frame.DataFrame'>\n",
      "RangeIndex: 18411 entries, 0 to 18410\n",
      "Data columns (total 7 columns):\n",
      " #   Column       Non-Null Count  Dtype  \n",
      "---  ------       --------------  -----  \n",
      " 0   HUMIDITY     18411 non-null  int64  \n",
      " 1          PH    18411 non-null  float64\n",
      " 2        RAIN    18411 non-null  int64  \n",
      " 3   TEMPARATURE  18411 non-null  float64\n",
      " 4           N    18411 non-null  int64  \n",
      " 5           P    18411 non-null  int64  \n",
      " 6           K    18411 non-null  int64  \n",
      "dtypes: float64(2), int64(5)\n",
      "memory usage: 1007.0 KB\n"
     ]
    }
   ],
   "source": [
    "df.info()"
   ]
  },
  {
   "cell_type": "code",
   "execution_count": 5,
   "id": "33aec394",
   "metadata": {},
   "outputs": [
    {
     "data": {
      "text/html": [
       "<div>\n",
       "<style scoped>\n",
       "    .dataframe tbody tr th:only-of-type {\n",
       "        vertical-align: middle;\n",
       "    }\n",
       "\n",
       "    .dataframe tbody tr th {\n",
       "        vertical-align: top;\n",
       "    }\n",
       "\n",
       "    .dataframe thead th {\n",
       "        text-align: right;\n",
       "    }\n",
       "</style>\n",
       "<table border=\"1\" class=\"dataframe\">\n",
       "  <thead>\n",
       "    <tr style=\"text-align: right;\">\n",
       "      <th></th>\n",
       "      <th>HUMIDITY</th>\n",
       "      <th>PH</th>\n",
       "      <th>RAIN</th>\n",
       "      <th>TEMPARATURE</th>\n",
       "      <th>N</th>\n",
       "      <th>P</th>\n",
       "      <th>K</th>\n",
       "    </tr>\n",
       "  </thead>\n",
       "  <tbody>\n",
       "    <tr>\n",
       "      <th>count</th>\n",
       "      <td>18411.000000</td>\n",
       "      <td>18411.000000</td>\n",
       "      <td>18411.000000</td>\n",
       "      <td>18411.000000</td>\n",
       "      <td>18411.000000</td>\n",
       "      <td>18411.000000</td>\n",
       "      <td>18411.000000</td>\n",
       "    </tr>\n",
       "    <tr>\n",
       "      <th>mean</th>\n",
       "      <td>7.524197</td>\n",
       "      <td>1.033505</td>\n",
       "      <td>660.083320</td>\n",
       "      <td>31.562270</td>\n",
       "      <td>5.315138</td>\n",
       "      <td>17.190918</td>\n",
       "      <td>31.555809</td>\n",
       "    </tr>\n",
       "    <tr>\n",
       "      <th>std</th>\n",
       "      <td>1.603973</td>\n",
       "      <td>0.664882</td>\n",
       "      <td>338.299318</td>\n",
       "      <td>0.482932</td>\n",
       "      <td>5.264785</td>\n",
       "      <td>23.135137</td>\n",
       "      <td>6.393486</td>\n",
       "    </tr>\n",
       "    <tr>\n",
       "      <th>min</th>\n",
       "      <td>0.000000</td>\n",
       "      <td>0.000000</td>\n",
       "      <td>0.000000</td>\n",
       "      <td>24.010000</td>\n",
       "      <td>0.000000</td>\n",
       "      <td>0.000000</td>\n",
       "      <td>2.000000</td>\n",
       "    </tr>\n",
       "    <tr>\n",
       "      <th>25%</th>\n",
       "      <td>7.000000</td>\n",
       "      <td>0.250000</td>\n",
       "      <td>396.000000</td>\n",
       "      <td>31.360000</td>\n",
       "      <td>0.000000</td>\n",
       "      <td>0.000000</td>\n",
       "      <td>31.000000</td>\n",
       "    </tr>\n",
       "    <tr>\n",
       "      <th>50%</th>\n",
       "      <td>8.000000</td>\n",
       "      <td>1.340000</td>\n",
       "      <td>548.000000</td>\n",
       "      <td>31.360000</td>\n",
       "      <td>4.000000</td>\n",
       "      <td>7.000000</td>\n",
       "      <td>33.000000</td>\n",
       "    </tr>\n",
       "    <tr>\n",
       "      <th>75%</th>\n",
       "      <td>8.000000</td>\n",
       "      <td>1.560000</td>\n",
       "      <td>1023.000000</td>\n",
       "      <td>31.850000</td>\n",
       "      <td>8.000000</td>\n",
       "      <td>36.000000</td>\n",
       "      <td>35.000000</td>\n",
       "    </tr>\n",
       "    <tr>\n",
       "      <th>max</th>\n",
       "      <td>18.000000</td>\n",
       "      <td>2.270000</td>\n",
       "      <td>20000.000000</td>\n",
       "      <td>37.240000</td>\n",
       "      <td>19.000000</td>\n",
       "      <td>2118.000000</td>\n",
       "      <td>228.000000</td>\n",
       "    </tr>\n",
       "  </tbody>\n",
       "</table>\n",
       "</div>"
      ],
      "text/plain": [
       "           HUMIDITY            PH          RAIN   TEMPARATURE             N  \\\n",
       "count  18411.000000  18411.000000  18411.000000  18411.000000  18411.000000   \n",
       "mean       7.524197      1.033505    660.083320     31.562270      5.315138   \n",
       "std        1.603973      0.664882    338.299318      0.482932      5.264785   \n",
       "min        0.000000      0.000000      0.000000     24.010000      0.000000   \n",
       "25%        7.000000      0.250000    396.000000     31.360000      0.000000   \n",
       "50%        8.000000      1.340000    548.000000     31.360000      4.000000   \n",
       "75%        8.000000      1.560000   1023.000000     31.850000      8.000000   \n",
       "max       18.000000      2.270000  20000.000000     37.240000     19.000000   \n",
       "\n",
       "                  P             K  \n",
       "count  18411.000000  18411.000000  \n",
       "mean      17.190918     31.555809  \n",
       "std       23.135137      6.393486  \n",
       "min        0.000000      2.000000  \n",
       "25%        0.000000     31.000000  \n",
       "50%        7.000000     33.000000  \n",
       "75%       36.000000     35.000000  \n",
       "max     2118.000000    228.000000  "
      ]
     },
     "execution_count": 5,
     "metadata": {},
     "output_type": "execute_result"
    }
   ],
   "source": [
    "df.describe()"
   ]
  },
  {
   "cell_type": "code",
   "execution_count": 6,
   "id": "a3998c38",
   "metadata": {},
   "outputs": [
    {
     "data": {
      "text/plain": [
       "Index(['HUMIDITY', '       PH', '     RAIN', 'TEMPARATURE', '        N',\n",
       "       '        P', '        K'],\n",
       "      dtype='object')"
      ]
     },
     "execution_count": 6,
     "metadata": {},
     "output_type": "execute_result"
    }
   ],
   "source": [
    "df.columns"
   ]
  },
  {
   "cell_type": "code",
   "execution_count": 7,
   "id": "ed6d68d8",
   "metadata": {},
   "outputs": [],
   "source": [
    "label = pd.Series([])\n",
    "soil_type = pd.Series([])"
   ]
  },
  {
   "cell_type": "code",
   "execution_count": 8,
   "id": "e5372c98",
   "metadata": {},
   "outputs": [],
   "source": [
    "#1=clay 2=\n",
    "for i in range(len(df)):\n",
    "    if df[\"     RAIN\"][i] <= 400:\n",
    "        label[i]=\"rice\"\n",
    "        soil_type[i]=1\n",
    "    elif df[\"     RAIN\"][i] <= 600:\n",
    "        label[i]=\"cofee\"\n",
    "        soil_type[i]=2\n",
    "    elif df[\"     RAIN\"][i] == 1023:\n",
    "        label[i]=\"onion\"\n",
    "        soil_type[i]=3\n",
    "    elif df[\"     RAIN\"][i] <= 800:\n",
    "        label[i]=\"tomato\"\n",
    "        soil_type[i]=4\n",
    "    else:\n",
    "        label[i]= \"potato\"\n",
    "        soil_type[i]=5\n",
    "# inserting new column with values of list made above\t\n",
    "df.insert(7, \"soil_type\", soil_type)\n",
    "df.insert(8, \"label\", label)"
   ]
  },
  {
   "cell_type": "code",
   "execution_count": 9,
   "id": "55d3ead5",
   "metadata": {},
   "outputs": [
    {
     "data": {
      "text/plain": [
       "Index(['HUMIDITY', '       PH', '     RAIN', 'TEMPARATURE', '        N',\n",
       "       '        P', '        K', 'soil_type', 'label'],\n",
       "      dtype='object')"
      ]
     },
     "execution_count": 9,
     "metadata": {},
     "output_type": "execute_result"
    }
   ],
   "source": [
    "df.columns"
   ]
  },
  {
   "cell_type": "code",
   "execution_count": 10,
   "id": "a605adff",
   "metadata": {},
   "outputs": [
    {
     "data": {
      "text/html": [
       "<div>\n",
       "<style scoped>\n",
       "    .dataframe tbody tr th:only-of-type {\n",
       "        vertical-align: middle;\n",
       "    }\n",
       "\n",
       "    .dataframe tbody tr th {\n",
       "        vertical-align: top;\n",
       "    }\n",
       "\n",
       "    .dataframe thead th {\n",
       "        text-align: right;\n",
       "    }\n",
       "</style>\n",
       "<table border=\"1\" class=\"dataframe\">\n",
       "  <thead>\n",
       "    <tr style=\"text-align: right;\">\n",
       "      <th></th>\n",
       "      <th>HUMIDITY</th>\n",
       "      <th>PH</th>\n",
       "      <th>RAIN</th>\n",
       "      <th>TEMPARATURE</th>\n",
       "      <th>N</th>\n",
       "      <th>P</th>\n",
       "      <th>K</th>\n",
       "      <th>soil_type</th>\n",
       "      <th>label</th>\n",
       "    </tr>\n",
       "  </thead>\n",
       "  <tbody>\n",
       "    <tr>\n",
       "      <th>0</th>\n",
       "      <td>5</td>\n",
       "      <td>0.00</td>\n",
       "      <td>0</td>\n",
       "      <td>31.36</td>\n",
       "      <td>0</td>\n",
       "      <td>18</td>\n",
       "      <td>4</td>\n",
       "      <td>1</td>\n",
       "      <td>rice</td>\n",
       "    </tr>\n",
       "    <tr>\n",
       "      <th>1</th>\n",
       "      <td>5</td>\n",
       "      <td>0.01</td>\n",
       "      <td>20000</td>\n",
       "      <td>31.85</td>\n",
       "      <td>0</td>\n",
       "      <td>23</td>\n",
       "      <td>2</td>\n",
       "      <td>5</td>\n",
       "      <td>potato</td>\n",
       "    </tr>\n",
       "    <tr>\n",
       "      <th>2</th>\n",
       "      <td>4</td>\n",
       "      <td>0.00</td>\n",
       "      <td>1023</td>\n",
       "      <td>31.85</td>\n",
       "      <td>0</td>\n",
       "      <td>20</td>\n",
       "      <td>31</td>\n",
       "      <td>3</td>\n",
       "      <td>onion</td>\n",
       "    </tr>\n",
       "    <tr>\n",
       "      <th>3</th>\n",
       "      <td>5</td>\n",
       "      <td>0.00</td>\n",
       "      <td>1023</td>\n",
       "      <td>31.85</td>\n",
       "      <td>0</td>\n",
       "      <td>19</td>\n",
       "      <td>32</td>\n",
       "      <td>3</td>\n",
       "      <td>onion</td>\n",
       "    </tr>\n",
       "    <tr>\n",
       "      <th>4</th>\n",
       "      <td>4</td>\n",
       "      <td>0.00</td>\n",
       "      <td>1023</td>\n",
       "      <td>31.36</td>\n",
       "      <td>0</td>\n",
       "      <td>21</td>\n",
       "      <td>29</td>\n",
       "      <td>3</td>\n",
       "      <td>onion</td>\n",
       "    </tr>\n",
       "    <tr>\n",
       "      <th>...</th>\n",
       "      <td>...</td>\n",
       "      <td>...</td>\n",
       "      <td>...</td>\n",
       "      <td>...</td>\n",
       "      <td>...</td>\n",
       "      <td>...</td>\n",
       "      <td>...</td>\n",
       "      <td>...</td>\n",
       "      <td>...</td>\n",
       "    </tr>\n",
       "    <tr>\n",
       "      <th>18406</th>\n",
       "      <td>9</td>\n",
       "      <td>0.00</td>\n",
       "      <td>395</td>\n",
       "      <td>31.36</td>\n",
       "      <td>0</td>\n",
       "      <td>39</td>\n",
       "      <td>35</td>\n",
       "      <td>1</td>\n",
       "      <td>rice</td>\n",
       "    </tr>\n",
       "    <tr>\n",
       "      <th>18407</th>\n",
       "      <td>8</td>\n",
       "      <td>0.00</td>\n",
       "      <td>395</td>\n",
       "      <td>31.85</td>\n",
       "      <td>0</td>\n",
       "      <td>29</td>\n",
       "      <td>35</td>\n",
       "      <td>1</td>\n",
       "      <td>rice</td>\n",
       "    </tr>\n",
       "    <tr>\n",
       "      <th>18408</th>\n",
       "      <td>8</td>\n",
       "      <td>0.00</td>\n",
       "      <td>395</td>\n",
       "      <td>31.36</td>\n",
       "      <td>4</td>\n",
       "      <td>35</td>\n",
       "      <td>36</td>\n",
       "      <td>1</td>\n",
       "      <td>rice</td>\n",
       "    </tr>\n",
       "    <tr>\n",
       "      <th>18409</th>\n",
       "      <td>8</td>\n",
       "      <td>0.00</td>\n",
       "      <td>395</td>\n",
       "      <td>31.36</td>\n",
       "      <td>0</td>\n",
       "      <td>40</td>\n",
       "      <td>35</td>\n",
       "      <td>1</td>\n",
       "      <td>rice</td>\n",
       "    </tr>\n",
       "    <tr>\n",
       "      <th>18410</th>\n",
       "      <td>9</td>\n",
       "      <td>0.00</td>\n",
       "      <td>395</td>\n",
       "      <td>31.36</td>\n",
       "      <td>0</td>\n",
       "      <td>33</td>\n",
       "      <td>36</td>\n",
       "      <td>1</td>\n",
       "      <td>rice</td>\n",
       "    </tr>\n",
       "  </tbody>\n",
       "</table>\n",
       "<p>18411 rows × 9 columns</p>\n",
       "</div>"
      ],
      "text/plain": [
       "       HUMIDITY         PH       RAIN  TEMPARATURE          N          P  \\\n",
       "0             5       0.00          0        31.36          0         18   \n",
       "1             5       0.01      20000        31.85          0         23   \n",
       "2             4       0.00       1023        31.85          0         20   \n",
       "3             5       0.00       1023        31.85          0         19   \n",
       "4             4       0.00       1023        31.36          0         21   \n",
       "...         ...        ...        ...          ...        ...        ...   \n",
       "18406         9       0.00        395        31.36          0         39   \n",
       "18407         8       0.00        395        31.85          0         29   \n",
       "18408         8       0.00        395        31.36          4         35   \n",
       "18409         8       0.00        395        31.36          0         40   \n",
       "18410         9       0.00        395        31.36          0         33   \n",
       "\n",
       "               K  soil_type   label  \n",
       "0              4          1    rice  \n",
       "1              2          5  potato  \n",
       "2             31          3   onion  \n",
       "3             32          3   onion  \n",
       "4             29          3   onion  \n",
       "...          ...        ...     ...  \n",
       "18406         35          1    rice  \n",
       "18407         35          1    rice  \n",
       "18408         36          1    rice  \n",
       "18409         35          1    rice  \n",
       "18410         36          1    rice  \n",
       "\n",
       "[18411 rows x 9 columns]"
      ]
     },
     "execution_count": 10,
     "metadata": {},
     "output_type": "execute_result"
    }
   ],
   "source": [
    "df"
   ]
  },
  {
   "cell_type": "code",
   "execution_count": 11,
   "id": "515e6846",
   "metadata": {},
   "outputs": [
    {
     "data": {
      "text/plain": [
       "165699"
      ]
     },
     "execution_count": 11,
     "metadata": {},
     "output_type": "execute_result"
    }
   ],
   "source": [
    "df.size"
   ]
  },
  {
   "cell_type": "code",
   "execution_count": 12,
   "id": "d389749d",
   "metadata": {},
   "outputs": [
    {
     "data": {
      "text/plain": [
       "(18411, 9)"
      ]
     },
     "execution_count": 12,
     "metadata": {},
     "output_type": "execute_result"
    }
   ],
   "source": [
    "df.shape"
   ]
  },
  {
   "cell_type": "code",
   "execution_count": 13,
   "id": "2a3634ec",
   "metadata": {},
   "outputs": [
    {
     "data": {
      "text/plain": [
       "Index(['HUMIDITY', '       PH', '     RAIN', 'TEMPARATURE', '        N',\n",
       "       '        P', '        K', 'soil_type', 'label'],\n",
       "      dtype='object')"
      ]
     },
     "execution_count": 13,
     "metadata": {},
     "output_type": "execute_result"
    }
   ],
   "source": [
    "df.columns"
   ]
  },
  {
   "cell_type": "code",
   "execution_count": 14,
   "id": "d6061097",
   "metadata": {},
   "outputs": [
    {
     "data": {
      "text/plain": [
       "array(['rice', 'potato', 'onion', 'cofee', 'tomato'], dtype=object)"
      ]
     },
     "execution_count": 14,
     "metadata": {},
     "output_type": "execute_result"
    }
   ],
   "source": [
    "df['label'].unique()"
   ]
  },
  {
   "cell_type": "code",
   "execution_count": 15,
   "id": "e4e3adfa",
   "metadata": {},
   "outputs": [
    {
     "data": {
      "text/plain": [
       "HUMIDITY         int64\n",
       "       PH      float64\n",
       "     RAIN        int64\n",
       "TEMPARATURE    float64\n",
       "        N        int64\n",
       "        P        int64\n",
       "        K        int64\n",
       "soil_type        int64\n",
       "label           object\n",
       "dtype: object"
      ]
     },
     "execution_count": 15,
     "metadata": {},
     "output_type": "execute_result"
    }
   ],
   "source": [
    "df.dtypes"
   ]
  },
  {
   "cell_type": "code",
   "execution_count": 16,
   "id": "00485d18",
   "metadata": {},
   "outputs": [
    {
     "data": {
      "text/plain": [
       "onion     5995\n",
       "rice      5160\n",
       "cofee     4161\n",
       "tomato    2009\n",
       "potato    1086\n",
       "Name: label, dtype: int64"
      ]
     },
     "execution_count": 16,
     "metadata": {},
     "output_type": "execute_result"
    }
   ],
   "source": [
    "df['label'].value_counts()"
   ]
  },
  {
   "cell_type": "code",
   "execution_count": 17,
   "id": "41b9cacc",
   "metadata": {},
   "outputs": [
    {
     "data": {
      "text/plain": [
       "<AxesSubplot:>"
      ]
     },
     "execution_count": 17,
     "metadata": {},
     "output_type": "execute_result"
    },
    {
     "data": {
      "image/png": "[encoded data removed]",
      "text/plain": [
       "<Figure size 432x288 with 2 Axes>"
      ]
     },
     "metadata": {
      "needs_background": "light"
     },
     "output_type": "display_data"
    }
   ],
   "source": [
    "sns.heatmap(df.corr(),annot=True)"
   ]
  },
  {
   "cell_type": "code",
   "execution_count": 18,
   "id": "dd920183",
   "metadata": {},
   "outputs": [],
   "source": [
    "features = df[['HUMIDITY', '       PH','     RAIN','TEMPARATURE', '        N', '        P', '        K','soil_type']]\n",
    "target = df['label']\n",
    "#features = df[['temperature', 'humidity', 'ph', 'rainfall']]\n",
    "labels = df['label']"
   ]
  },
  {
   "cell_type": "code",
   "execution_count": 19,
   "id": "f6ca44de",
   "metadata": {},
   "outputs": [],
   "source": [
    "# Initialzing empty lists to append all model's name and corresponding name\n",
    "acc = []\n",
    "model = []"
   ]
  },
  {
   "cell_type": "code",
   "execution_count": 20,
   "id": "ab39ee11",
   "metadata": {},
   "outputs": [],
   "source": [
    "# Splitting into train and test data\n",
    "\n",
    "from sklearn.model_selection import train_test_split\n",
    "Xtrain, Xtest, Ytrain, Ytest = train_test_split(features,target,test_size = 0.2,random_state =2)"
   ]
  },
  {
   "cell_type": "code",
   "execution_count": 21,
   "id": "fb99c818",
   "metadata": {},
   "outputs": [
    {
     "name": "stdout",
     "output_type": "stream",
     "text": [
      "DecisionTrees's Accuracy is:  100.0\n",
      "              precision    recall  f1-score   support\n",
      "\n",
      "       cofee       1.00      1.00      1.00       818\n",
      "       onion       1.00      1.00      1.00      1240\n",
      "      potato       1.00      1.00      1.00       212\n",
      "        rice       1.00      1.00      1.00      1014\n",
      "      tomato       1.00      1.00      1.00       399\n",
      "\n",
      "    accuracy                           1.00      3683\n",
      "   macro avg       1.00      1.00      1.00      3683\n",
      "weighted avg       1.00      1.00      1.00      3683\n",
      "\n"
     ]
    }
   ],
   "source": [
    "from sklearn.tree import DecisionTreeClassifier\n",
    "\n",
    "DecisionTree = DecisionTreeClassifier(criterion=\"entropy\",random_state=2,max_depth=5)\n",
    "\n",
    "DecisionTree.fit(Xtrain,Ytrain)\n",
    "\n",
    "predicted_values = DecisionTree.predict(Xtest)\n",
    "x = metrics.accuracy_score(Ytest, predicted_values)\n",
    "acc.append(x)\n",
    "model.append('Decision Tree')\n",
    "print(\"DecisionTrees's Accuracy is: \", x*100)\n",
    "\n",
    "print(classification_report(Ytest,predicted_values))"
   ]
  },
  {
   "cell_type": "code",
   "execution_count": 22,
   "id": "690f417c",
   "metadata": {},
   "outputs": [],
   "source": [
    "from sklearn.model_selection import cross_val_score"
   ]
  },
  {
   "cell_type": "code",
   "execution_count": 23,
   "id": "45af3b1f",
   "metadata": {},
   "outputs": [],
   "source": [
    "# Cross validation score (Decision Tree)\n",
    "score = cross_val_score(DecisionTree, features, target,cv=5)"
   ]
  },
  {
   "cell_type": "code",
   "execution_count": 24,
   "id": "77e060df",
   "metadata": {},
   "outputs": [
    {
     "data": {
      "text/plain": [
       "array([1., 1., 1., 1., 1.])"
      ]
     },
     "execution_count": 24,
     "metadata": {},
     "output_type": "execute_result"
    }
   ],
   "source": [
    "score"
   ]
  },
  {
   "cell_type": "code",
   "execution_count": 25,
   "id": "a39577cc",
   "metadata": {},
   "outputs": [],
   "source": [
    "import pickle\n",
    "# Dump the trained Naive Bayes classifier with Pickle\n",
    "DT_pkl_filename = 'DecisionTree.pkl'\n",
    "# Open the file to save as pkl file\n",
    "DT_Model_pkl = open(DT_pkl_filename, 'wb')\n",
    "pickle.dump(DecisionTree, DT_Model_pkl)\n",
    "# Close the pickle instances\n",
    "DT_Model_pkl.close()"
   ]
  },
  {
   "cell_type": "code",
   "execution_count": 26,
   "id": "6f56e1b7",
   "metadata": {},
   "outputs": [],
   "source": [
    "import pickle"
   ]
  },
  {
   "cell_type": "code",
   "execution_count": 27,
   "id": "9ff5af3f",
   "metadata": {},
   "outputs": [],
   "source": [
    "model1 = pickle.load(open('DecisionTree.pkl', 'rb'))"
   ]
  },
  {
   "cell_type": "code",
   "execution_count": 28,
   "id": "322fa5f0",
   "metadata": {},
   "outputs": [
    {
     "name": "stdout",
     "output_type": "stream",
     "text": [
      "['rice']\n"
     ]
    }
   ],
   "source": [
    "#data = np.array([[5,0,0,31,0,18,4,1]])\n",
    "#prediction = model1.predict(data)\n",
    "prediction = model1.predict(np.array([[5,1,0,31,0,18,4,1]]))\n",
    "print(prediction)"
   ]
  }
 ],
 "metadata": {
  "kernelspec": {
   "display_name": "Python 3 (ipykernel)",
   "language": "python",
   "name": "python3"
  },
  "language_info": {
   "codemirror_mode": {
    "name": "ipython",
    "version": 3
   },
   "file_extension": ".py",
   "mimetype": "text/x-python",
   "name": "python",
   "nbconvert_exporter": "python",
   "pygments_lexer": "ipython3",
   "version": "3.9.12"
  }
 },
 "nbformat": 4,
 "nbformat_minor": 5
}
